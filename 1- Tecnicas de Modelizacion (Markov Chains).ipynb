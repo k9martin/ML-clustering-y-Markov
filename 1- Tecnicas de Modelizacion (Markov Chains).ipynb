{
 "cells": [
  {
   "cell_type": "code",
   "execution_count": null,
   "metadata": {},
   "outputs": [],
   "source": [
    "### El objetivo de este curso es el estudio de las técnicas de clasificación utilizadas en MS (sector financiero)\n",
    "#\n",
    "#  Tiene 4 partes:\n",
    "#   - Clustering    (Ejemplo a replicar en https://www.aprendemachinelearning.com/k-means-en-python-paso-a-paso/)\n",
    "#   - KNN\n",
    "#   - Markov        (Ejemplo en https://www.datacamp.com/community/tutorials/markov-chains-python-tutorial)\n",
    "#   - PCA (principal components algorithm)\n",
    "#"
   ]
  },
  {
   "cell_type": "code",
   "execution_count": null,
   "metadata": {},
   "outputs": [],
   "source": [
    "# 3.- Cadenas de Markov (para tiempos discretos):\n",
    "\n",
    "#   Las cadenas de Markov son una secuencia de variables random, que representan la probabilidad de pasar de un \n",
    "#   estado i a un estado j verificando la ecuación de Chapman-Kolgomorov: por cada k que cumpla 0<k<n, la \n",
    "#   probabilidad de transicion del estado i a j viene dada por:\n",
    "#\n",
    "#                              p_ij = sum(p_ir(k)*prj(n-k))  \n",
    "#\n",
    "#   donde r pertenece a E, que es el espacio de estados.\n",
    "#\n",
    "#\n",
    "#   En las cadenas de Markov, la probabilidad de un suceso depende de su estado anterior. Esto implementa el \n",
    "#   concepto de estado previo y estado posterior (temporalidad). La formula de calcular cada periodo es definir \n",
    "#   una matriz con la probabilidad de transicion en cada periodo, y multiplicar esta por si misma por cada periodo\n",
    "#   que haya ocurrido. Cada término de la matriz contendrá la probabilidad de pasar del estado inicial (fila) \n",
    "#   al estado final (columna).\n",
    "#   \n",
    "#   Sin embargo, cada estado de la cadena de Markov solo depende de su situacion anterior. Esto hace que sea un \n",
    "#   modelo matemático \"memoryless\", ya que su estado actual solo depende de su estado en t-1, sin importar lo que\n",
    "#   hubiese ocurrido anteriormente.\n",
    "#\n",
    "#   Para la representacion de las cadenas de Markov, se pueden utilizar la matriz de transición (cuadrada) y el \n",
    "#   diagrama de estados. La suma de los valores de cada fila debe ser 1, ya que la fila completa corresponde a\n",
    "#   la probabilidad de transicion del estado i a cualquier estado.\n",
    "#\n",
    "#\n",
    "#\n",
    "#\n",
    "#\n",
    "#\n",
    "#\n"
   ]
  },
  {
   "cell_type": "code",
   "execution_count": null,
   "metadata": {},
   "outputs": [],
   "source": [
    "# Para el ejemplo voy a hacer el mismo que en el enlace (https://www.datacamp.com/community/tutorials/markov-chains-python-tutorial).\n",
    "# Descripcion:\n",
    "\n",
    "\n",
    "# When Cj is sad, which isn't very usual: she either goes for a run, goobles down icecream or takes a nap.\n",
    "\n",
    "# From historic data, if she spent sleeping a sad day away. The next day it is 60% likely she will go for \n",
    "# a run, 20% she will stay in bed the next day and 20% chance she will pig out on icecream.\n",
    "\n",
    "# When she is sad and goes for a run, there is a 60% chances she'll go for a run the next day, 30% she \n",
    "# gorges on icecream and only 10% chances she'll spend sleeping the next day.\n",
    "\n",
    "# Finally, when she indulges on icecream on a sad day, there is a mere 10% chance she continues to have \n",
    "# icecream the next day as well, 70% she is likely to go for a run and 20% chance that she spends sleeping \n",
    "# the next day.\n",
    "\n"
   ]
  },
  {
   "cell_type": "code",
   "execution_count": 1,
   "metadata": {},
   "outputs": [],
   "source": [
    "# Imports necesarios\n",
    "import numpy as np\n",
    "import random as rm"
   ]
  },
  {
   "cell_type": "code",
   "execution_count": 2,
   "metadata": {},
   "outputs": [],
   "source": [
    "# The statespace\n",
    "states = [\"Sleep\",\"Icecream\",\"Run\"]\n",
    "\n",
    "# Possible sequences of events\n",
    "transitionName = [[\"SS\",\"SR\",\"SI\"],[\"RS\",\"RR\",\"RI\"],[\"IS\",\"IR\",\"II\"]]\n",
    "\n",
    "# Probabilities matrix (transition matrix)\n",
    "transitionMatrix = [[0.2,0.6,0.2],[0.1,0.6,0.3],[0.2,0.7,0.1]]"
   ]
  },
  {
   "cell_type": "code",
   "execution_count": 4,
   "metadata": {},
   "outputs": [
    {
     "name": "stdout",
     "output_type": "stream",
     "text": [
      "All is gonna be okay, you should move on!! ;)\n"
     ]
    }
   ],
   "source": [
    "if sum(transitionMatrix[0])+sum(transitionMatrix[1])+sum(transitionMatrix[1]) != 3:\n",
    "    print(\"Somewhere, something went wrong. Transition matrix, perhaps?\")\n",
    "else: print(\"All is gonna be okay, you should move on!! ;)\")"
   ]
  },
  {
   "cell_type": "code",
   "execution_count": 30,
   "metadata": {},
   "outputs": [],
   "source": [
    "# A function that implements the Markov model to forecast the state/mood.\n",
    "def activity_forecast(days, initial_state):\n",
    "    # Choose the starting state\n",
    "    activityToday = initial_state\n",
    "    # Shall store the sequence of states taken. So, this only has the starting state for now.\n",
    "    activityList = [activityToday]\n",
    "    i = 0\n",
    "    # To calculate the probability of the activityList\n",
    "    prob = 1\n",
    "    while i != days:\n",
    "        if activityToday == \"Sleep\":\n",
    "            change = np.random.choice(transitionName[0],replace=True,p=transitionMatrix[0])\n",
    "            if change == \"SS\":\n",
    "                prob = prob * 0.2\n",
    "                activityList.append(\"Sleep\")\n",
    "                pass\n",
    "            elif change == \"SR\":\n",
    "                prob = prob * 0.6\n",
    "                activityToday = \"Run\"\n",
    "                activityList.append(\"Run\")\n",
    "            else:\n",
    "                prob = prob * 0.2\n",
    "                activityToday = \"Icecream\"\n",
    "                activityList.append(\"Icecream\")\n",
    "        elif activityToday == \"Run\":\n",
    "            change = np.random.choice(transitionName[1],replace=True,p=transitionMatrix[1])\n",
    "            if change == \"RR\":\n",
    "                prob = prob * 0.5\n",
    "                activityList.append(\"Run\")\n",
    "                pass\n",
    "            elif change == \"RS\":\n",
    "                prob = prob * 0.2\n",
    "                activityToday = \"Sleep\"\n",
    "                activityList.append(\"Sleep\")\n",
    "            else:\n",
    "                prob = prob * 0.3\n",
    "                activityToday = \"Icecream\"\n",
    "                activityList.append(\"Icecream\")\n",
    "        elif activityToday == \"Icecream\":\n",
    "            change = np.random.choice(transitionName[2],replace=True,p=transitionMatrix[2])\n",
    "            if change == \"II\":\n",
    "                prob = prob * 0.1\n",
    "                activityList.append(\"Icecream\")\n",
    "                pass\n",
    "            elif change == \"IS\":\n",
    "                prob = prob * 0.2\n",
    "                activityToday = \"Sleep\"\n",
    "                activityList.append(\"Sleep\")\n",
    "            else:\n",
    "                prob = prob * 0.7\n",
    "                activityToday = \"Run\"\n",
    "                activityList.append(\"Run\")\n",
    "        i += 1  \n",
    "    return activityList, days, activityToday, prob\n",
    "    \n"
   ]
  },
  {
   "cell_type": "code",
   "execution_count": 32,
   "metadata": {},
   "outputs": [
    {
     "name": "stdout",
     "output_type": "stream",
     "text": [
      "Start state: Sleep\n",
      "Possible states: ['Sleep', 'Run', 'Sleep']\n",
      "End state after 2 days: Sleep\n",
      "Probability of the possible sequence of states: 0.12\n"
     ]
    }
   ],
   "source": [
    "# Function that forecasts the possible state for the next 2 days\n",
    "# Initial state\n",
    "start_state = 'Sleep'\n",
    "# Function\n",
    "activityList, days, activityToday, prob = activity_forecast(2, start_state)\n",
    "\n",
    "# Prints \n",
    "print(\"Start state: \" + start_state)\n",
    "print(\"Possible states: \" + str(activityList))\n",
    "print(\"End state after \"+ str(days) + \" days: \" + activityToday)\n",
    "print(\"Probability of the possible sequence of states: \" + str(prob))"
   ]
  },
  {
   "cell_type": "code",
   "execution_count": 42,
   "metadata": {},
   "outputs": [
    {
     "name": "stdout",
     "output_type": "stream",
     "text": [
      "The probability of starting at state:'Sleep' and ending at state:'Run'= 61.89233333333334%\n"
     ]
    }
   ],
   "source": [
    "# To save every activityList\n",
    "list_activity = []\n",
    "count = 0\n",
    "n_iters = 10000\n",
    "\n",
    "# `Range` starts from the first count up until but excluding the last count\n",
    "for iterations in range(n_iters):\n",
    "        activity_list, _, _, _ = activity_forecast(2, start_state)\n",
    "        list_activity.append(activity_list)\n",
    "\n",
    "\n",
    "# Check out all the `activityList` we collected    \n",
    "#print(list_activity)\n",
    "\n",
    "# Iterate through the list to get a count of all activities ending in state:'Run'\n",
    "for smaller_list in list_activity:\n",
    "    if(smaller_list[2] == \"Run\"):\n",
    "        count += 1\n",
    "\n",
    "# Calculate the probability of starting from state:'Sleep' and ending at state:'Run'\n",
    "percentage = (count/n_iters) * 100\n",
    "print(\"The probability of starting at state:'Sleep' and ending at state:'Run'= \" + str(percentage) + \"%\")"
   ]
  }
 ],
 "metadata": {
  "kernelspec": {
   "display_name": "Python 3",
   "language": "python",
   "name": "python3"
  },
  "language_info": {
   "codemirror_mode": {
    "name": "ipython",
    "version": 3
   },
   "file_extension": ".py",
   "mimetype": "text/x-python",
   "name": "python",
   "nbconvert_exporter": "python",
   "pygments_lexer": "ipython3",
   "version": "3.7.6"
  }
 },
 "nbformat": 4,
 "nbformat_minor": 4
}
